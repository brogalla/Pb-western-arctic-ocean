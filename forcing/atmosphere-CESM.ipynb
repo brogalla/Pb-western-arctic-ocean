{
 "cells": [
  {
   "cell_type": "markdown",
   "metadata": {
    "tags": []
   },
   "source": [
    "# Create monthly CESM atmospheric dust and black carbon deposition files\n",
    "\n",
    "Interpolated to ANHA12 model grid.\n",
    "\n",
    "NCAR CESM output:\n",
    "Community Earth System Model (Community Atmosphere Model - CAM https://agupubs.onlinelibrary.wiley.com/doi/abs/10.1002/2013MS000279) output: https://www.earthsystemgrid.org/; CESM2 Large Ensemble Atmosphere Post Processed Data, Monthly Averages.\n",
    "\n",
    "Specific run output: https://www.earthsystemgrid.org/dataset/ucar.cgd.cesm2le.output.html"
   ]
  },
  {
   "cell_type": "code",
   "execution_count": 1,
   "metadata": {},
   "outputs": [],
   "source": [
    "import numpy as np\n",
    "import xarray as xr\n",
    "import pandas as pd\n",
    "import netCDF4 as nc\n",
    "import sys\n",
    "sys.path.append('../paper-materials/')\n",
    "import mapping_functions as mf\n",
    "from constants import imin, imax, jmin, jmax\n",
    "\n",
    "%matplotlib inline"
   ]
  },
  {
   "cell_type": "markdown",
   "metadata": {},
   "source": [
    "#### Parameters"
   ]
  },
  {
   "cell_type": "code",
   "execution_count": 2,
   "metadata": {},
   "outputs": [],
   "source": [
    "data_folder = '/data/brogalla/NCAR-CESM2/'"
   ]
  },
  {
   "cell_type": "markdown",
   "metadata": {
    "tags": []
   },
   "source": [
    "#### Load files"
   ]
  },
  {
   "cell_type": "code",
   "execution_count": 3,
   "metadata": {},
   "outputs": [],
   "source": [
    "# ANHA12 grid mesh:\n",
    "mesh        = xr.open_dataset('/ocean/brogalla/GEOTRACES/data/ANHA12/ANHA12_mesh1.nc')\n",
    "tmask       = mesh['tmask'].values[0,:,:,:]\n",
    "ANHA12_lons = mesh['nav_lon']\n",
    "ANHA12_lats = mesh['nav_lat']\n",
    "Z_masked    = np.ma.masked_where((tmask > 0.1), tmask) "
   ]
  },
  {
   "cell_type": "code",
   "execution_count": null,
   "metadata": {},
   "outputs": [],
   "source": [
    "# ---- Load data: ------------\n",
    "# From CESM2 experiment linked at top of this notebook.\n",
    "# Black carbon:\n",
    "BC0 = xr.open_dataset(f'{data_folder}b.e21.BHISTcmip6.f09_g17.LE2-1001.001.pop.h.ATM_BLACK_CARBON_FLUX_CPL.199001-199912.nc')\n",
    "BC1 = xr.open_dataset(f'{data_folder}b.e21.BHISTcmip6.f09_g17.LE2-1001.001.pop.h.ATM_BLACK_CARBON_FLUX_CPL.200001-200912.nc')\n",
    "BC2 = xr.open_dataset(f'{data_folder}b.e21.BHISTcmip6.f09_g17.LE2-1001.001.pop.h.ATM_BLACK_CARBON_FLUX_CPL.201001-201412.nc')\n",
    "BC3 = xr.open_dataset(f'{data_folder}b.e21.BSSP370cmip6.f09_g17.LE2-1001.001.pop.h.ATM_BLACK_CARBON_FLUX_CPL.201501-202412.nc')\n",
    "ATM_BC0  = BC0['ATM_BLACK_CARBON_FLUX_CPL'].values\n",
    "ATM_BC1  = BC1['ATM_BLACK_CARBON_FLUX_CPL'].values # time, lat, lon; g/cm2/s\n",
    "ATM_BC2  = BC2['ATM_BLACK_CARBON_FLUX_CPL'].values\n",
    "ATM_BC3  = BC3['ATM_BLACK_CARBON_FLUX_CPL'].values\n",
    "BC0_time = BC0.indexes['time'].to_datetimeindex() \n",
    "BC1_time = BC1.indexes['time'].to_datetimeindex() \n",
    "BC2_time = BC2.indexes['time'].to_datetimeindex() \n",
    "BC3_time = BC3.indexes['time'].to_datetimeindex() \n",
    "# combine:\n",
    "ATM_BC   = np.vstack([ATM_BC1, ATM_BC2, ATM_BC3])\n",
    "BC_time  = np.hstack([BC1_time, BC2_time, BC3_time])\n",
    "BC_date  = np.array([pd.Timestamp(time).to_pydatetime() for time in BC_time])\n",
    "  \n",
    "# Fine dust:\n",
    "FD1 = xr.open_dataset(f'{data_folder}b.e21.BHISTcmip6.f09_g17.LE2-1001.001.pop.h.ATM_FINE_DUST_FLUX_CPL.200001-200912.nc')\n",
    "FD2 = xr.open_dataset(f'{data_folder}b.e21.BHISTcmip6.f09_g17.LE2-1001.001.pop.h.ATM_FINE_DUST_FLUX_CPL.201001-201412.nc')\n",
    "FD3 = xr.open_dataset(f'{data_folder}b.e21.BSSP370cmip6.f09_g17.LE2-1001.001.pop.h.ATM_FINE_DUST_FLUX_CPL.201501-202412.nc')\n",
    "ATM_FD1  = FD1['ATM_FINE_DUST_FLUX_CPL'].values # time, lat, lon; g/cm2/s\n",
    "ATM_FD2  = FD2['ATM_FINE_DUST_FLUX_CPL'].values\n",
    "ATM_FD3  = FD3['ATM_FINE_DUST_FLUX_CPL'].values\n",
    "FD1_time = FD1.indexes['time'].to_datetimeindex() \n",
    "FD2_time = FD2.indexes['time'].to_datetimeindex() \n",
    "FD3_time = FD3.indexes['time'].to_datetimeindex()\n",
    "# combine:\n",
    "ATM_FD   = np.vstack([ATM_FD1, ATM_FD2, ATM_FD3])\n",
    "FD_time  = np.hstack([FD1_time, FD2_time, FD3_time])\n",
    "FD_date  = np.array([pd.Timestamp(time).to_pydatetime() for time in FD_time])\n",
    "    \n",
    "# Coarse dust: \n",
    "CD1 = xr.open_dataset(f'{data_folder}b.e21.BHISTcmip6.f09_g17.LE2-1001.001.pop.h.ATM_COARSE_DUST_FLUX_CPL.200001-200912.nc')\n",
    "CD2 = xr.open_dataset(f'{data_folder}b.e21.BHISTcmip6.f09_g17.LE2-1001.001.pop.h.ATM_COARSE_DUST_FLUX_CPL.201001-201412.nc')\n",
    "CD3 = xr.open_dataset(f'{data_folder}b.e21.BSSP370cmip6.f09_g17.LE2-1001.001.pop.h.ATM_COARSE_DUST_FLUX_CPL.201501-202412.nc')\n",
    "ATM_CD1  = CD1['ATM_COARSE_DUST_FLUX_CPL'].values # time, lat, lon; g/cm2/s\n",
    "ATM_CD2  = CD2['ATM_COARSE_DUST_FLUX_CPL'].values\n",
    "ATM_CD3  = CD3['ATM_COARSE_DUST_FLUX_CPL'].values\n",
    "CD1_time = CD1.indexes['time'].to_datetimeindex() \n",
    "CD2_time = CD2.indexes['time'].to_datetimeindex() \n",
    "CD3_time = CD3.indexes['time'].to_datetimeindex()\n",
    "# combine:\n",
    "ATM_CD   = np.vstack([ATM_CD1, ATM_CD2, ATM_CD3])\n",
    "CD_time  = np.hstack([CD1_time, CD2_time, CD3_time])\n",
    "CD_date  = np.array([pd.Timestamp(time).to_pydatetime() for time in CD_time])\n",
    "    \n",
    "# Latitudes and longitudes of T grid points\n",
    "CESM2_lons = BC1['TLONG'].values\n",
    "CESM2_lons[CESM2_lons >=180] = -360 + CESM2_lons[CESM2_lons >=180] # degrees east\n",
    "CESM2_lats = BC1['TLAT'].values"
   ]
  },
  {
   "cell_type": "code",
   "execution_count": 5,
   "metadata": {},
   "outputs": [],
   "source": [
    "# Function to save CESM2 monthly output fields that are read in by NEMO\n",
    "def save_file(filename, field1, field2, field3):\n",
    "    ncd = nc.Dataset(filename, 'w', zlib=True)\n",
    "    ncd.createDimension('x',len(mesh.dimensions['x']))\n",
    "    ncd.createDimension('y',len(mesh.dimensions['y']))\n",
    "    ncd.createDimension('time_counter',None)\n",
    "    \n",
    "    # convert units from g/cm2/s to kg/m2/s: (1 kg/ 1000 g) * (10,000 cm2 / m2)\n",
    "    field1_convert = field1*10\n",
    "    field2_convert = field2*10\n",
    "    field3_convert = field3*10\n",
    "    \n",
    "    # variables\n",
    "    fine_dust             = ncd.createVariable('fdust', 'float64', ('y','x'))\n",
    "    fine_dust.units       = 'kg/m2/s'\n",
    "    fine_dust.long_name   = 'Fine dust deposition flux'  \n",
    "    fine_dust.coordinates = 'nav_lon nav_lat'\n",
    "    fine_dust[:]          = field1_convert\n",
    "    \n",
    "    coarse_dust             = ncd.createVariable('cdust', 'float64', ('y','x'))\n",
    "    coarse_dust.units       = 'kg/m2/s'\n",
    "    coarse_dust.long_name   = 'Coarse dust deposition flux'  \n",
    "    coarse_dust.coordinates = 'nav_lon nav_lat'\n",
    "    coarse_dust[:]          = field2_convert\n",
    "    \n",
    "    black_c             = ncd.createVariable('bc', 'float64', ('y','x'))\n",
    "    black_c.units       = 'kg/m2/s'\n",
    "    black_c.long_name   = 'Black carbon deposition flux'  \n",
    "    black_c.coordinates = 'nav_lon nav_lat'\n",
    "    black_c[:]          = field3_convert\n",
    "    \n",
    "    print('saved ', filename)\n",
    "\n",
    "    ncd.close()\n",
    "    return"
   ]
  },
  {
   "cell_type": "code",
   "execution_count": 6,
   "metadata": {},
   "outputs": [],
   "source": [
    "# Function identifies for a given file year what the indices are for those dates within the CESM2 files\n",
    "def find_dates(file_year):\n",
    "    \n",
    "    indices = np.array([])\n",
    "    for d,date in enumerate(FD_date):\n",
    "        if date.year==file_year:\n",
    "            indices = np.append(indices, d)\n",
    "            \n",
    "    start_index = int(np.amin(indices))\n",
    "    end_index   = int(np.amax(indices))\n",
    "    \n",
    "    print('start index: ', start_index)\n",
    "    print('end index: ', end_index)\n",
    "    \n",
    "    return start_index, end_index"
   ]
  },
  {
   "cell_type": "code",
   "execution_count": 7,
   "metadata": {},
   "outputs": [],
   "source": [
    "# Main function that identifies the dates for the particular file year, interpolates the file to the ANHA12 grid, and saves the file\n",
    "def CESM_to_ANHA12(file_year, savefiles=False):\n",
    "    \n",
    "    si, ei = find_dates(file_year)\n",
    "    \n",
    "    # Select dates\n",
    "    fine_dust    = ATM_FD[si:ei+1,:,:]\n",
    "    coarse_dust  = ATM_CD[si:ei+1,:,:]\n",
    "    black_carbon = ATM_BC[si:ei+1,:,:]\n",
    "    \n",
    "    print('Check that output is of the correct dimensions: ', fine_dust.shape, coarse_dust.shape, black_carbon.shape)\n",
    "    \n",
    "    interp_fine_dust    = np.empty((12, 2400, 1632))\n",
    "    interp_coarse_dust  = np.empty((12, 2400, 1632))\n",
    "    interp_black_carbon = np.empty((12, 2400, 1632))\n",
    "\n",
    "    # loop over the months:\n",
    "    for i in range(0,12):\n",
    "        # Mask NaN values and remove\n",
    "        fdm = np.ma.masked_where(np.isnan(fine_dust[i,:,:]), fine_dust[i,:,:])\n",
    "        cdm = np.ma.masked_where(np.isnan(coarse_dust[i,:,:]), coarse_dust[i,:,:])\n",
    "        bcm = np.ma.masked_where(np.isnan(black_carbon[i,:,:]), black_carbon[i,:,:])\n",
    "        \n",
    "        # Interpolate\n",
    "        interp_fine_dust[i,:,:]    = mf.interp_np(CESM2_lons[~fdm.mask], CESM2_lats[~fdm.mask], \\\n",
    "                                                  fdm[~fdm.mask], ANHA12_lons, ANHA12_lats)\n",
    "        interp_coarse_dust[i,:,:]  = mf.interp_np(CESM2_lons[~cdm.mask], CESM2_lats[~cdm.mask], \\\n",
    "                                                  cdm[~cdm.mask], ANHA12_lons, ANHA12_lats)\n",
    "        interp_black_carbon[i,:,:] = mf.interp_np(CESM2_lons[~bcm.mask], CESM2_lats[~bcm.mask], \\\n",
    "                                                  bcm[~bcm.mask], ANHA12_lons, ANHA12_lats)\n",
    "        \n",
    "    if savefiles:\n",
    "        location = '/ocean/brogalla/GEOTRACES/data/Pb-forcing-202311/atmospheric/'\n",
    "        \n",
    "        for ind in range(1,13):\n",
    "            save_file(f'{location}new-atm_flux_y{file_year}m{ind:02}.nc',interp_fine_dust[ind-1,:,:],\\\n",
    "                      interp_coarse_dust[ind-1,:,:], interp_black_carbon[ind-1,:,:])\n",
    "    \n",
    "    return interp_fine_dust, interp_coarse_dust, interp_black_carbon"
   ]
  },
  {
   "cell_type": "markdown",
   "metadata": {},
   "source": [
    "#### Interpolate to ANHA12 grid:"
   ]
  },
  {
   "cell_type": "code",
   "execution_count": 11,
   "metadata": {},
   "outputs": [],
   "source": [
    "ATM_FDm = np.ma.masked_where(np.isnan(ATM_FD), ATM_FD)\n",
    "ATM_CDm = np.ma.masked_where(np.isnan(ATM_CD), ATM_CD)\n",
    "ATM_BCm = np.ma.masked_where(np.isnan(ATM_BC), ATM_BC)"
   ]
  },
  {
   "cell_type": "code",
   "execution_count": null,
   "metadata": {},
   "outputs": [],
   "source": [
    "for year in np.arange(2002,2021,1):\n",
    "    interp_fine_dust, interp_coarse_dust, interp_black_carbon = CESM_to_ANHA12(year, savefiles=True)"
   ]
  }
 ],
 "metadata": {
  "kernelspec": {
   "display_name": "Python 3",
   "language": "python",
   "name": "python3"
  },
  "language_info": {
   "codemirror_mode": {
    "name": "ipython",
    "version": 3
   },
   "file_extension": ".py",
   "mimetype": "text/x-python",
   "name": "python",
   "nbconvert_exporter": "python",
   "pygments_lexer": "ipython3",
   "version": "3.6.11"
  }
 },
 "nbformat": 4,
 "nbformat_minor": 4
}
