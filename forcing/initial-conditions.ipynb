{
 "cells": [
  {
   "cell_type": "markdown",
   "metadata": {},
   "source": [
    "# Create dissolved Pb concentration initial conditions\n",
    "\n",
    "Based on water masses identified from the simulated temperature and salinity, described in supplementary text S1."
   ]
  },
  {
   "cell_type": "code",
   "execution_count": 2,
   "metadata": {},
   "outputs": [],
   "source": [
    "import xarray as xr\n",
    "import numpy as np\n",
    "import xarray as xr\n",
    "import sys\n",
    "sys.path.append('../paper-materials/')\n",
    "from constants import imin, imax, jmin, jmax\n",
    "\n",
    "%matplotlib inline"
   ]
  },
  {
   "cell_type": "markdown",
   "metadata": {},
   "source": [
    "#### Files"
   ]
  },
  {
   "cell_type": "code",
   "execution_count": 3,
   "metadata": {},
   "outputs": [],
   "source": [
    "# The Pb model configuration ANHA12 mask:\n",
    "mesh         = xr.open_dataset('/ocean/brogalla/GEOTRACES/data/ANHA12/ANHA12_mask_Pb-20230213.nc')\n",
    "mesh_lon     = mesh['nav_lon'].values\n",
    "mesh_lat     = mesh['nav_lat'].values\n",
    "mesh_bathy   = mesh['tmask'].values[0,:,:,:]\n",
    "bathy_masked = np.ma.masked_where((mesh_bathy> 0.1), mesh_bathy)\n",
    "ocean_masked = np.ma.masked_where((mesh_bathy<0.1), mesh_bathy)\n",
    "depths       = mesh['nav_lev'].values"
   ]
  },
  {
   "cell_type": "code",
   "execution_count": 4,
   "metadata": {},
   "outputs": [],
   "source": [
    "# Load an ANHA12 temperature and salinity file at the start of time series:\n",
    "df_gridT = xr.open_dataset(f'/data/brogalla/ANHA12/ANHA12-EXH006_5d_gridT_y2002m01d05.nc')\n",
    "temp = df_gridT['votemper'].values[0,:,:,:]\n",
    "sal  = df_gridT['vosaline'].values[0,:,:,:]"
   ]
  },
  {
   "cell_type": "markdown",
   "metadata": {},
   "source": [
    "#### Functions"
   ]
  },
  {
   "cell_type": "code",
   "execution_count": 5,
   "metadata": {},
   "outputs": [],
   "source": [
    "# Function creates initial dissolved Pb concentrations based on the provided temperature and salinity\n",
    "def create_IC(temp, sal):\n",
    "    # Pb end-members:\n",
    "    PML_Pb    = 4e-12   # Polar Mixed Layer Pb\n",
    "    AW_Pb     = 30e-12  # Atlantic water Pb\n",
    "    AO_Pb     = 6e-12   # Arctic water Pb\n",
    "    AOAW_Pb   = 25e-12  # Arctic Atlantic water mixture WGC\n",
    "    \n",
    "    PML_temp  = -0.2    # Polar mixed layer temperature\n",
    "    AW_sal    = 35.2    # Atlantic Water salinity\n",
    "    AW_temp   = 5.2     # Atlantic Water temperature\n",
    "    \n",
    "    # Linear interpolate endpoints between PML and ACW:\n",
    "    end_temp = [PML_temp, AW_temp] \n",
    "    end_dPb = [PML_Pb, AW_Pb]\n",
    "    dPb_IC  = np.interp(temp, end_temp, end_dPb)\n",
    "    \n",
    "    # Labrador Sea deep atlantic water inflow:\n",
    "    end_sal = [34.86, 34.875]\n",
    "    end_dPb = [AOAW_Pb, AW_Pb]\n",
    "    dPb_IC[(sal > 34.86) & (temp > 2.0)] = np.interp(sal[(sal > 34.86) & (temp > 2.0)], end_sal, end_dPb)\n",
    "    \n",
    "    # Baffin Bay subsurface WGC increase\n",
    "    end_sal = [34.0, AW_sal]\n",
    "    end_dPb = [AO_Pb, AW_Pb]\n",
    "    dPb_IC[:,:imax-500,:][(sal[:,:imax-500,:] > 33.7) & (sal[:,:imax-500,:] < 34.4) & (temp[:,:imax-500,:] < 0.4)] = \\\n",
    "        np.interp(sal[:,:imax-500,:][(sal[:,:imax-500,:] > 33.7) & (sal[:,:imax-500,:] < 34.4) & (temp[:,:imax-500,:] < 0.4)], \\\n",
    "                  end_sal, end_dPb)\n",
    "    \n",
    "    dPb_IC[np.isnan(dPb_IC)] = 3e-12\n",
    "    \n",
    "    return dPb_IC"
   ]
  },
  {
   "cell_type": "code",
   "execution_count": 6,
   "metadata": {},
   "outputs": [],
   "source": [
    "# Save the initial conditions to a netCDF file\n",
    "def save_file(ini_pb):    \n",
    "    ini_pb_reshape = np.empty((1,50,2400,1632))\n",
    "    ini_pb_reshape[0,:,:,:] = ini_pb\n",
    "    \n",
    "    file_write = xr.Dataset(\n",
    "        {'dPb': ((\"time_counter\",\"deptht\",\"y\",\"x\"), ini_pb_reshape)}, \n",
    "        coords = {\n",
    "            \"time_counter\": np.zeros(1),\n",
    "            \"deptht\": np.zeros(50),\n",
    "            \"y\": np.zeros(2400),\n",
    "            \"x\": np.zeros(1632),\n",
    "        },\n",
    "        attrs = {\n",
    "            \"long_name\":'Dissolved Pb concentration IC',\n",
    "            \"units\":\"kmol/m3\"\n",
    "        },\n",
    "    )\n",
    "    file_write.to_netcdf('/ocean/brogalla/GEOTRACES/data/Pb-tuning-202302/Pb-ini-20230214.nc', unlimited_dims='time_counter')\n",
    "    return"
   ]
  },
  {
   "cell_type": "markdown",
   "metadata": {},
   "source": [
    "#### Calculate"
   ]
  },
  {
   "cell_type": "code",
   "execution_count": 10,
   "metadata": {
    "tags": []
   },
   "outputs": [],
   "source": [
    "overall_IC = create_IC(temp, sal)"
   ]
  },
  {
   "cell_type": "markdown",
   "metadata": {},
   "source": [
    "#### Save file"
   ]
  },
  {
   "cell_type": "code",
   "execution_count": 28,
   "metadata": {},
   "outputs": [
    {
     "name": "stdout",
     "output_type": "stream",
     "text": [
      "0\n",
      "0\n",
      "3e-12 3e-11 8.676769836818529e-12\n",
      "(50, 2400, 1632)\n"
     ]
    }
   ],
   "source": [
    "# Check no zeros, NaNs etc.\n",
    "print(sum(sum(sum(np.isnan(overall_IC)))))\n",
    "print(sum(sum(sum(overall_IC==0))))\n",
    "print(np.amin(overall_IC), np.amax(overall_IC), np.mean(overall_IC))\n",
    "print(overall_IC.shape)"
   ]
  },
  {
   "cell_type": "code",
   "execution_count": 29,
   "metadata": {},
   "outputs": [],
   "source": [
    "save_file(overall_IC)"
   ]
  },
  {
   "cell_type": "code",
   "execution_count": null,
   "metadata": {},
   "outputs": [],
   "source": []
  }
 ],
 "metadata": {
  "kernelspec": {
   "display_name": "Python 3",
   "language": "python",
   "name": "python3"
  },
  "language_info": {
   "codemirror_mode": {
    "name": "ipython",
    "version": 3
   },
   "file_extension": ".py",
   "mimetype": "text/x-python",
   "name": "python",
   "nbconvert_exporter": "python",
   "pygments_lexer": "ipython3",
   "version": "3.6.11"
  }
 },
 "nbformat": 4,
 "nbformat_minor": 4
}
