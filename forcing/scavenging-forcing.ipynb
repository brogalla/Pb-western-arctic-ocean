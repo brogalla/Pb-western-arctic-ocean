{
 "cells": [
  {
   "cell_type": "markdown",
   "id": "a4bbf1b5",
   "metadata": {},
   "source": [
    "# Pb scavenging forcing fields\n",
    "\n",
    "Pb is scavenged onto monthly lithogenic and biogenic particle fields \n",
    "\n",
    "$$ \\frac{\\partial [dPb]}{\\partial t} = - (\\beta \\cdot P_{litho,authigenic} + (1-\\beta) \\cdot P_{biogenic} ) \\cdot k_{p} \\cdot [dPb] $$"
   ]
  },
  {
   "cell_type": "code",
   "execution_count": 1,
   "id": "1cbad467",
   "metadata": {},
   "outputs": [],
   "source": [
    "import numpy as np\n",
    "import xarray as xr\n",
    "from scipy.spatial import Delaunay\n",
    "from scipy import ndimage as nd\n",
    "from scipy.interpolate import LinearNDInterpolator\n",
    "import sys\n",
    "sys.path.append('../paper-materials/')\n",
    "from constants import imin, imax, jmin, jmax, isize, jsize\n",
    "\n",
    "%matplotlib inline"
   ]
  },
  {
   "cell_type": "markdown",
   "id": "c0faded5",
   "metadata": {},
   "source": [
    "#### Load files"
   ]
  },
  {
   "cell_type": "code",
   "execution_count": 2,
   "id": "daf9946d",
   "metadata": {},
   "outputs": [],
   "source": [
    "# The Pb model configuration ANHA12 mask:\n",
    "mesh         = xr.open_dataset('/ocean/brogalla/GEOTRACES/data/ANHA12/ANHA12_mask_Pb-20230213.nc')\n",
    "mesh_lon     = mesh['nav_lon'].values\n",
    "mesh_lat     = mesh['nav_lat'].values\n",
    "mesh_bathy   = mesh['tmask'][0,:,:,:].values\n",
    "bathy_masked = np.ma.masked_where((mesh_bathy> 0.1), mesh_bathy)\n",
    "ocean_masked = np.ma.masked_where((mesh_bathy<0.1), mesh_bathy)\n",
    "depths       = mesh['nav_lev'].values"
   ]
  },
  {
   "cell_type": "code",
   "execution_count": 3,
   "id": "babe39ce",
   "metadata": {},
   "outputs": [],
   "source": [
    "# ANHA4 BLING output \n",
    "# from https://canadian-nemo-ocean-modelling-forum-commuity-of-practice.readthedocs.io/en/latest/Institutions/UofA/Configurations/ANHA4/index.html\n",
    "dset          = xr.open_dataset(f'/data/brogalla/ANHA4/BLING-EPM151/ANHA4-EPM151_y2002m08d13_gridB.nc')\n",
    "ANHA4_lons    = dset['nav_lon'].values\n",
    "ANHA4_lats    = dset['nav_lat'].values\n",
    "ANHA4_depths  = dset['deptht'].values"
   ]
  },
  {
   "cell_type": "code",
   "execution_count": 4,
   "id": "49b6ba76",
   "metadata": {},
   "outputs": [],
   "source": [
    "# Mn for surface particle field:\n",
    "dset_ANHA12 = xr.open_dataset('/data/brogalla/run_storage/Mn-extended-domain-202210/oMn_y2002m01.nc')\n",
    "ANHA12_lons = mesh_lon[imin:imax,jmin:jmax]\n",
    "ANHA12_lats = mesh_lat[imin:imax,jmin:jmax]"
   ]
  },
  {
   "cell_type": "code",
   "execution_count": 5,
   "id": "44270bc5",
   "metadata": {},
   "outputs": [],
   "source": [
    "# interpolate from ANHA4 to ANHA12 grid:\n",
    "tri = Delaunay(np.array([ANHA4_lons.flatten(), ANHA4_lats.flatten()]).transpose())  # Compute the triangulation"
   ]
  },
  {
   "cell_type": "markdown",
   "id": "cc23fa2c",
   "metadata": {},
   "source": [
    "#### Functions:"
   ]
  },
  {
   "cell_type": "code",
   "execution_count": 6,
   "id": "66c45c56",
   "metadata": {},
   "outputs": [],
   "source": [
    "# Replace the value of invalid data cells with the nearest valid cell (from a stackoverflow example)\n",
    "def fill(data, invalid=None):\n",
    "\n",
    "    if invalid is None: invalid = np.isnan(data)\n",
    "\n",
    "    ind = nd.distance_transform_edt(invalid, return_distances=False, return_indices=True)\n",
    "    return data[tuple(ind)]"
   ]
  },
  {
   "cell_type": "code",
   "execution_count": 7,
   "id": "c0a3b0b4",
   "metadata": {},
   "outputs": [],
   "source": [
    "# Save particle monthly particle fields to a netCDF file\n",
    "def save_file_particle_fields(folder, oMn, fpop, fpops, biom, year, month):   \n",
    "    \n",
    "    file_write = xr.Dataset(\n",
    "        {'oxidisMn' : ((\"deptht\",\"y\",\"x\"), oMn),\n",
    "         'fpop'     : ((\"deptht\",\"y\",\"x\"), fpop),\n",
    "         'fpop-sink': ((\"deptht\",\"y\",\"x\"), fpops),\n",
    "         'biomass'  : ((\"deptht\",\"y\",\"x\"), biom)},\n",
    "        coords = {\n",
    "            \"time_counter\": np.zeros(1),\n",
    "            \"deptht\": depths,\n",
    "            \"y\": np.zeros(mesh_lat[imin:imax,jmin:jmax].shape[0]),\n",
    "            \"x\": np.zeros(mesh_lon[imin:imax,jmin:jmax].shape[1])},\n",
    "    )\n",
    "    file_write.to_netcdf(f'{folder}Pb_scavenging_y{year}m{month:02}.nc', \\\n",
    "                         unlimited_dims='time_counter')\n",
    "\n",
    "    return"
   ]
  },
  {
   "cell_type": "code",
   "execution_count": 8,
   "id": "aa9ac9cf",
   "metadata": {},
   "outputs": [],
   "source": [
    "# load monthly BLING files and calculate a biogenic particle field from it\n",
    "def load_bio(year, month):\n",
    "    file_EPM101  = f'/data/brogalla/ANHA4/BLING-EPM151/ANHA4-EPM151_y{year}m{month:02}.nc'\n",
    "    \n",
    "    # with the BLING file, calculate the fields:\n",
    "    with xr.open_dataset(f'{file_EPM101}') as dset_bio:\n",
    "        fpop_ANHA4   = dset_bio['fpop'][:,:,:].values      # sinking particulate organic matter in phosphate units (mol P/m3)\n",
    "        fpop_ANHA4[fpop_ANHA4 < 0]       = 0\n",
    "        fpop_ANHA4[np.isnan(fpop_ANHA4)] = np.nanmean(fpop_ANHA4)\n",
    "\n",
    "        # Convert sinking particulate organic matter in phosphate units by dividing by the sinking rate:\n",
    "        wsink              = np.ones(ANHA4_depths.shape)*16/(3600*24) # convert from m/day to m/s\n",
    "        wsink[depths > 80] = (0.05*(ANHA4_depths[ANHA4_depths > 80]-80)+16)/(3600*24) \n",
    "        fpops_ANHA4        = np.array([fpop_ANHA4[d,:,:] / wsink[d] for d in range(0,len(ANHA4_depths))])\n",
    "        fpops_ANHA4[fpop_ANHA4 < 0]       = 0\n",
    "        fpops_ANHA4[np.isnan(fpop_ANHA4)] = np.nanmean(fpops_ANHA4)\n",
    "\n",
    "        biop_ANHA4   = dset_bio['biomass_p'][:,:,:].values # biomass concentration in phosphate units (mol P/m3)\n",
    "        biop_ANHA4[biop_ANHA4 < 0]       = 0\n",
    "        biop_ANHA4[np.isnan(biop_ANHA4)] = np.nanmean(biop_ANHA4)\n",
    "        \n",
    "        return fpop_ANHA4, fpops_ANHA4, biop_ANHA4\n",
    "\n",
    "# interpolate the particle field to the ANHA12 grid\n",
    "def interpolate_bio(bio_particles):\n",
    "    \n",
    "    # interpolate from ANHA4 to ANHA12 grid:\n",
    "    ANHA12_bio = np.empty((50,isize,jsize))\n",
    "    for depth in range(0,50):\n",
    "        interpolator   = LinearNDInterpolator(tri, bio_particles[depth,:,:].flatten())    \n",
    "    \n",
    "        ANHA12_bio[depth,:,:] = interpolator(np.array([ANHA12_lons.flatten(), ANHA12_lats.flatten()]).transpose()).reshape(ANHA12_lons.shape)\n",
    "\n",
    "    return ANHA12_bio\n",
    "\n",
    "# load the oxidised Mn fields from experiments with Rogalla et al. (2022) to use as a proxy for lithogenic particle fields\n",
    "def load_litho(year, month):\n",
    "    # Mn for surface particle field:\n",
    "    folder_Mn   = f'/data/brogalla/run_storage/Mn-extended-domain-202210/'\n",
    "    \n",
    "    with xr.open_dataset(f'{folder_Mn}oMn_y{year}m{month:02}.nc') as dset_ANHA12:\n",
    "        ANHA12_Mn   = dset_ANHA12['oxidismn'][:,:,:].values \n",
    "\n",
    "    return ANHA12_Mn"
   ]
  },
  {
   "cell_type": "code",
   "execution_count": 9,
   "id": "1e019268",
   "metadata": {},
   "outputs": [],
   "source": [
    "# main function that loads and interpolates the individual fields and creates particle fields to save to file\n",
    "def create_particle_fields(year, month, save=False, loc=''):\n",
    "    \n",
    "    # load forcing fields and interpolate to ANHA12 grid\n",
    "    ANHA4_fpop, ANHA4_fpops, ANHA4_biom = load_bio(year, month)\n",
    "    ANHA12_fpop  = interpolate_bio(ANHA4_fpop)\n",
    "    ANHA12_fpops = interpolate_bio(ANHA4_fpops)\n",
    "    ANHA12_biom  = interpolate_bio(ANHA4_biom)\n",
    "    ANHA12_litho = load_litho(year, month)\n",
    "\n",
    "    # Fill any weird values \n",
    "    # https://stackoverflow.com/questions/3662361/fill-in-missing-values-with-nearest-neighbour-in-python-numpy-masked-arrays\n",
    "    ANHA12_biom  = fill(ANHA12_biom,  invalid=(ANHA12_biom  < 0))\n",
    "    ANHA12_fpop  = fill(ANHA12_fpop,  invalid=(ANHA12_fpop  < 0))\n",
    "    ANHA12_fpops = fill(ANHA12_fpops, invalid=(ANHA12_fpops < 0))\n",
    "    ANHA12_litho = fill(ANHA12_litho, invalid=(ANHA12_litho < 0))\n",
    "    ANHA12_biom[np.isnan(ANHA12_biom)]   = 0.0; ANHA12_fpop[np.isnan(ANHA12_fpop)]   = 0.0;\n",
    "    ANHA12_fpops[np.isnan(ANHA12_fpops)] = 0.0; ANHA12_litho[np.isnan(ANHA12_litho)] = 0.0;\n",
    "    ANHA12_biom[(mesh_bathy[:,imin:imax,jmin:jmax] < 0.1)]  = 0.0; ANHA12_fpop[(mesh_bathy[:,imin:imax,jmin:jmax] < 0.1)]  = 0.0;\n",
    "    ANHA12_litho[(mesh_bathy[:,imin:imax,jmin:jmax] < 0.1)] = 0.0; ANHA12_fpops[(mesh_bathy[:,imin:imax,jmin:jmax] < 0.1)] = 0.0; \n",
    "    \n",
    "    if save:\n",
    "        folder =f'/ocean/brogalla/GEOTRACES/data/Pb-forcing-202311/{loc}'\n",
    "        save_file_particle_fields(f'{folder}', ANHA12_litho, ANHA12_fpop, ANHA12_fpops, ANHA12_biom, year, month)\n",
    "    \n",
    "    return ANHA12_litho, ANHA12_biom"
   ]
  },
  {
   "cell_type": "markdown",
   "id": "26c28d78",
   "metadata": {},
   "source": [
    "Create particle fields and save:"
   ]
  },
  {
   "cell_type": "code",
   "execution_count": null,
   "id": "2e304843",
   "metadata": {},
   "outputs": [],
   "source": [
    "for year in range(2002, 2022):\n",
    "    for month in range(1,13):\n",
    "        print(year, month)\n",
    "        litho, bio = create_particle_fields(year, month, save=True, loc = 'particle-fields/')"
   ]
  },
  {
   "cell_type": "markdown",
   "id": "9b6d57e3-7c15-425d-81f3-78b388516e5d",
   "metadata": {},
   "source": [
    "## Now combine these particle fields to create the scavenging forcing files:"
   ]
  },
  {
   "cell_type": "code",
   "execution_count": 10,
   "id": "ba12449f-b299-4f9d-abe7-8f834bc41686",
   "metadata": {},
   "outputs": [],
   "source": [
    "# calculate the total scavenging particle field by combining all the individual fields\n",
    "def calc_kscav(oMn, fpop, fpops, biom, oMn_max=np.nan, bio_max=np.nan,\n",
    "               ln_fpop=False, ln_fpop_sink=True, ln_biomass=True, beta=0.005, power=1):\n",
    "    # beta --- fraction lithogenic\n",
    "    \n",
    "    litho_particles_norm = oMn[:,:,:,:]/oMn_max\n",
    "    bio_particles        = ln_fpop*fpop[:,:,:,:] + ln_fpop_sink*fpops[:,:,:,:] + ln_biomass*biom[:,:,:,:]\n",
    "    \n",
    "    bio_particles_norm   = bio_particles/(bio_max**(1-power))\n",
    "    bio_particles_norm[bio_particles_norm < 0] = 0\n",
    "    \n",
    "    particles            = litho_particles_norm*beta + (1-beta)*(bio_particles_norm)\n",
    "    part_scav            = particles\n",
    "    return particles"
   ]
  },
  {
   "cell_type": "code",
   "execution_count": 18,
   "id": "a69e9813-b12b-416b-ba75-7854d7bf231e",
   "metadata": {},
   "outputs": [],
   "source": [
    "# main scavenging calculation combines particle fields to a generalized particle field using the tuned parameter beta\n",
    "def main_calc(year, bio_max=np.nan, oMn_max=np.nan, ln_fpop=False, ln_fpop_sink=True, ln_biomass=True):\n",
    "    \n",
    "    oMn   = np.zeros((12,len(depths),isize,jsize)); fpop  = np.zeros((12,len(depths),isize,jsize));\n",
    "    fpops = np.zeros((12,len(depths),isize,jsize)); biom  = np.zeros((12,len(depths),isize,jsize));\n",
    "    for month in range(1,13):\n",
    "        df = xr.open_dataset(f'/ocean/brogalla/GEOTRACES/data/Pb-forcing-202311/particle-fields/Pb_scavenging_y{year}m{month:02}.nc')\n",
    "        oMn[month-1,:,:,:]   = df['oxidisMn'].values[:,:,:]\n",
    "        fpop[month-1,:,:,:]  = df['fpop'].values[:,:,:]\n",
    "        fpops[month-1,:,:,:] = df['fpop-sink'].values[:,:,:]\n",
    "        biom[month-1,:,:,:]  = df['biomass'].values[:,:,:]\n",
    "        \n",
    "    # calculate the particle field\n",
    "    particles = calc_kscav(oMn, fpop, fpops, biom, bio_max=bio_max, oMn_max=oMn_max, beta=0.10, power=0.15)\n",
    "    \n",
    "    return particles"
   ]
  },
  {
   "cell_type": "code",
   "execution_count": 19,
   "id": "704ff99b-ea68-481c-a3b7-864cce45fadd",
   "metadata": {},
   "outputs": [],
   "source": [
    "# calculate the maximum of the biogenic and lithogenic particle fields over time to use for normalization later\n",
    "def calc_max(year, ln_fpop=False, ln_fpop_sink=True, ln_biomass=True):\n",
    "    \n",
    "    oMn   = np.zeros((12,len(depths),isize,jsize)); fpop  = np.zeros((12,len(depths),isize,jsize));\n",
    "    fpops = np.zeros((12,len(depths),isize,jsize)); biom  = np.zeros((12,len(depths),isize,jsize));\n",
    "    for month in range(1,13):\n",
    "        # load the particle fields created in the upper section\n",
    "        df = xr.open_dataset(f'/ocean/brogalla/GEOTRACES/data/Pb-forcing-202311/particle-fields/Pb_scavenging_y{year}m{month:02}.nc')\n",
    "        oMn[month-1,:,:,:]   = df['oxidisMn'].values[:,:,:]\n",
    "        fpop[month-1,:,:,:]  = df['fpop'].values[:,:,:]\n",
    "        fpops[month-1,:,:,:] = df['fpop-sink'].values[:,:,:]\n",
    "        biom[month-1,:,:,:]  = df['biomass'].values[:,:,:]\n",
    "\n",
    "    litho_max = np.nanmax(oMn[:,:,:,:])    \n",
    "    bio_max   = np.nanmax(ln_fpop*fpop[:,:,:,:] + ln_fpop_sink*fpops[:,:,:,:] + ln_biomass*biom[:,:,:,:])\n",
    "    \n",
    "    return litho_max, bio_max"
   ]
  },
  {
   "cell_type": "code",
   "execution_count": 16,
   "id": "cd96e970-60a0-4e42-b9bc-8c74c74e135a",
   "metadata": {},
   "outputs": [],
   "source": [
    "# save the overall scavenging field to a netCDF file\n",
    "def save_file_scavenging(folder, particle_array, year, month):   \n",
    "    \n",
    "    file_write = xr.Dataset(\n",
    "        {'particles' : ((\"deptht\",\"y\",\"x\"), particle_array)},\n",
    "        coords = {\n",
    "            \"time_counter\": np.zeros(1),\n",
    "            \"deptht\": depths,\n",
    "            \"y\": np.zeros(mesh_lat.shape[0]),\n",
    "            \"x\": np.zeros(mesh_lon.shape[1])},\n",
    "    )\n",
    "    file_write.to_netcdf(f'{folder}Pb_scavenging_y{year}m{month:02}.nc', \\\n",
    "                         unlimited_dims='time_counter')\n",
    "\n",
    "    return"
   ]
  },
  {
   "cell_type": "code",
   "execution_count": null,
   "id": "f9de4d93-45e8-404b-a158-a841f6c72898",
   "metadata": {},
   "outputs": [],
   "source": [
    "# find maximum values for biogenic and lithogenic particle fields:\n",
    "litho_max = np.zeros(len(range(2002,2022)))\n",
    "bio_max   = np.zeros(len(range(2002,2022)))\n",
    "for ind, year in enumerate(range(2002,2022)):\n",
    "    litho_max[ind], bio_max[ind] = calc_max(year)"
   ]
  },
  {
   "cell_type": "code",
   "execution_count": null,
   "id": "da7e4480-aa05-4a73-a4e8-d005e7081a84",
   "metadata": {},
   "outputs": [],
   "source": [
    "folder = '/ocean/brogalla/GEOTRACES/data/Pb-forcing-202311/scavenging/'\n",
    "for year in range(2002,2022):\n",
    "    particles                          = np.zeros((12,) + mesh_bathy.shape)\n",
    "    particles[:,:,imin:imax,jmin:jmax] = main_calc(year, bio_max=7.47144e-4, oMn_max=1.83314e-07) # values from output from the previous cell\n",
    "    for month in range(1,13): \n",
    "        save_file_scavenging(f'{folder}', particles[month-1,:,:,:], year, month)"
   ]
  },
  {
   "cell_type": "code",
   "execution_count": null,
   "id": "e50da590-f2f7-4231-ace3-be756f391710",
   "metadata": {},
   "outputs": [],
   "source": []
  }
 ],
 "metadata": {
  "kernelspec": {
   "display_name": "Python 3",
   "language": "python",
   "name": "python3"
  },
  "language_info": {
   "codemirror_mode": {
    "name": "ipython",
    "version": 3
   },
   "file_extension": ".py",
   "mimetype": "text/x-python",
   "name": "python",
   "nbconvert_exporter": "python",
   "pygments_lexer": "ipython3",
   "version": "3.6.11"
  }
 },
 "nbformat": 4,
 "nbformat_minor": 5
}
