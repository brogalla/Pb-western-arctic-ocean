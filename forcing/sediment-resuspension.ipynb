{
 "cells": [
  {
   "cell_type": "markdown",
   "metadata": {},
   "source": [
    "# Sediment resuspension parameterization\n",
    "\n",
    "Estimated as constant over time with the magnitudes as a function of tidal stresses."
   ]
  },
  {
   "cell_type": "code",
   "execution_count": 1,
   "metadata": {},
   "outputs": [],
   "source": [
    "import numpy as np\n",
    "import datetime\n",
    "import xarray as xr\n",
    "import scipy.io\n",
    "import sys\n",
    "sys.path.append('../paper-materials/')\n",
    "import mapping_functions as mf\n",
    "from constants import imin, imax, jmin, jmax\n",
    "\n",
    "%matplotlib inline"
   ]
  },
  {
   "cell_type": "markdown",
   "metadata": {},
   "source": [
    "#### Load files:"
   ]
  },
  {
   "cell_type": "code",
   "execution_count": 3,
   "metadata": {},
   "outputs": [],
   "source": [
    "# The Pb model configuration ANHA12 mask:\n",
    "mesh         = xr.open_dataset('/ocean/brogalla/GEOTRACES/data/ANHA12/ANHA12_mask_Pb-20230213.nc')\n",
    "mesh_lon     = mesh['nav_lon'].values\n",
    "mesh_lat     = mesh['nav_lat'].values\n",
    "tmask        = mesh['tmask'].values\n",
    "mesh_bathy   = tmask[0,:,:,:]\n",
    "bathy_masked = np.ma.masked_where((mesh_bathy > 0.1), mesh_bathy)\n",
    "depths       = mesh['nav_lev']"
   ]
  },
  {
   "cell_type": "code",
   "execution_count": 4,
   "metadata": {},
   "outputs": [],
   "source": [
    "# Tidal speed matrix provided by Jacqui-Lee Epstein and Stephanie Waterman (extracted from Carrere and Lyard, 2003)\n",
    "mat         = scipy.io.loadmat('/ocean/brogalla/GEOTRACES/data/mean_tide_speed.mat')\n",
    "tidal_speed = mat['mean_speed']\n",
    "ts_mesh     = xr.open_dataset('/ocean/brogalla/GEOTRACES/data/hsquare.nc')\n",
    "ts_lons     = ts_mesh['nav_lon'].values\n",
    "ts_lats     = ts_mesh['nav_lat'].values"
   ]
  },
  {
   "cell_type": "markdown",
   "metadata": {},
   "source": [
    "#### Calculations"
   ]
  },
  {
   "cell_type": "code",
   "execution_count": 5,
   "metadata": {},
   "outputs": [],
   "source": [
    "tidal_speed_ANHA12 = mf.interp_np(ts_lons, ts_lats, tidal_speed, mesh_lon, mesh_lat)\n",
    "tidal_speed_ANHA12[np.isnan(tidal_speed_ANHA12)] = 0\n",
    "tidal_speed_ANHA12[tidal_speed_ANHA12 < 0.01]    = 0 # mask tidal speeds slower than 1 cm/s"
   ]
  },
  {
   "cell_type": "code",
   "execution_count": null,
   "metadata": {},
   "outputs": [],
   "source": [
    "gamma     = 0.065\n",
    "resus_cst = 1.0e-8\n",
    "\n",
    "old_erosion_rate     = tidal_speed_ANHA12**2\n",
    "log_old_erosion_rate = np.log10(old_erosion_rate)\n",
    "\n",
    "erosion_rate     = gamma*(1-np.exp(-tidal_speed_ANHA12**2/gamma))\n",
    "log_erosion_rate = np.log10(erosion_rate)"
   ]
  },
  {
   "cell_type": "markdown",
   "metadata": {},
   "source": [
    "$ resuspension = 1 - e^{-v^2} \\approx 1 - (1 - v^2) = v^2$"
   ]
  },
  {
   "cell_type": "markdown",
   "metadata": {},
   "source": [
    "Write to file:"
   ]
  },
  {
   "cell_type": "code",
   "execution_count": 19,
   "metadata": {},
   "outputs": [],
   "source": [
    "file_write = xr.Dataset(\n",
    "    {'er_rate': ((\"y\",\"x\"), erosion_rate)}, \n",
    "    coords = {\n",
    "        \"y\": np.zeros(2400),\n",
    "        \"x\": np.zeros(1632),\n",
    "    },\n",
    "    attrs = {\n",
    "        'long_name':'Erosion rate',\n",
    "        'units':'kg/m2/s (when multipled by resus_cst)',\n",
    "    }\n",
    ")\n",
    "\n",
    "file_write.to_netcdf('/ocean/brogalla/GEOTRACES/data/erosion_rate-Pb-20221102.nc')"
   ]
  },
  {
   "cell_type": "code",
   "execution_count": null,
   "metadata": {},
   "outputs": [],
   "source": []
  }
 ],
 "metadata": {
  "kernelspec": {
   "display_name": "Python 3",
   "language": "python",
   "name": "python3"
  },
  "language_info": {
   "codemirror_mode": {
    "name": "ipython",
    "version": 3
   },
   "file_extension": ".py",
   "mimetype": "text/x-python",
   "name": "python",
   "nbconvert_exporter": "python",
   "pygments_lexer": "ipython3",
   "version": "3.6.11"
  }
 },
 "nbformat": 4,
 "nbformat_minor": 4
}
