{
 "cells": [
  {
   "cell_type": "markdown",
   "metadata": {},
   "source": [
    "# Create dissolved Pb forcing in runoff\n",
    "First create a river classification system based on runoff type and then apply concentrations"
   ]
  },
  {
   "cell_type": "code",
   "execution_count": 2,
   "metadata": {},
   "outputs": [],
   "source": [
    "import numpy as np\n",
    "import xarray as xr\n",
    "import sys\n",
    "sys.path.append('../paper-materials/')\n",
    "from constants import imin, imax, jmin, jmax\n",
    "\n",
    "%matplotlib inline"
   ]
  },
  {
   "cell_type": "markdown",
   "metadata": {},
   "source": [
    "#### Load files"
   ]
  },
  {
   "cell_type": "code",
   "execution_count": 3,
   "metadata": {},
   "outputs": [],
   "source": [
    "# Load the runoff forcing used in ANHA12 to identify the runoff locations\n",
    "# based on Dai, Trenberth et al. (2009), and Bamber et al. (2012)\n",
    "c = xr.open_dataset('/ocean/brogalla/GEOTRACES/data/runoff/ANHA12_runoff_monthly_combined_Dai_Trenberth_Bamber_y2015.nc')\n",
    "lon_rf  = c['nav_lon'].values\n",
    "lat_rf  = c['nav_lat'].values\n",
    "socoefr = c['socoefr'].values\n",
    "rf      = c['runoff'][8].values\n",
    "\n",
    "# mask places where runoff is zero\n",
    "rf[rf == 0]       = np.nan\n",
    "lon_rf[rf == 0.0] = np.nan\n",
    "lat_rf[rf == 0.0] = np.nan"
   ]
  },
  {
   "cell_type": "markdown",
   "metadata": {},
   "source": [
    "Classify runoff based on:\n",
    "1. Glaciers\n",
    "2. Continental\n",
    "3. other"
   ]
  },
  {
   "cell_type": "markdown",
   "metadata": {},
   "source": [
    "Start off with classifying everything as other:"
   ]
  },
  {
   "cell_type": "code",
   "execution_count": 9,
   "metadata": {},
   "outputs": [],
   "source": [
    "class_river = np.empty(rf.shape)\n",
    "class_river[:] = np.nan\n",
    "class_river[~np.isnan(rf)] = 3.0"
   ]
  },
  {
   "cell_type": "markdown",
   "metadata": {},
   "source": [
    "then identify glacier runoff: "
   ]
  },
  {
   "cell_type": "code",
   "execution_count": 10,
   "metadata": {},
   "outputs": [],
   "source": [
    "# array of indices where latitude  & longitude condition (Greenland) is met\n",
    "index1 = np.argwhere((lat_rf < 82) & (lat_rf > 73) & (lon_rf < -62) & (lon_rf > -74))\n",
    "index2 = np.argwhere((lat_rf < 85) & (lat_rf > 76) & (lon_rf < -75) & (lon_rf > -85))\n",
    "index3 = np.argwhere((lat_rf < 74) & (lat_rf > 71) & (lon_rf < -70) & (lon_rf > -83))\n",
    "index4 = np.argwhere((lat_rf < 77) & (lat_rf > 73) & (lon_rf < -79) & (lon_rf > -84))\n",
    "index5 = np.argwhere((lat_rf < 80) & (lat_rf > 78) & (lon_rf < -90) & (lon_rf > -93))\n",
    "index6 = np.argwhere((lat_rf < 84) & (lat_rf > 79) & (lon_rf < -93) & (lon_rf > -97))\n",
    "index7 = np.argwhere((lat_rf < 86) & (lat_rf > 73) & (lon_rf < -40) & (lon_rf > -62))\n",
    "\n",
    "index8 = np.argwhere((lat_rf < 86) & (lat_rf > 55) & (lon_rf < 20) & (lon_rf > -62))\n",
    "index9 = np.argwhere((lat_rf < 75) & (lat_rf > 63) & (lon_rf < -50) & (lon_rf > -71))"
   ]
  },
  {
   "cell_type": "code",
   "execution_count": 11,
   "metadata": {},
   "outputs": [],
   "source": [
    "def classify_glacier(index, rf, class_river):\n",
    "    for i in range(0,index.shape[0]):         \n",
    "        if ~np.isnan(rf[index[i][0],index[i][1]]):\n",
    "#             rf[index[i][0],index[i][1]] = 1.0\n",
    "            class_river[index[i][0],index[i][1]] = 1.0\n",
    "    return class_river"
   ]
  },
  {
   "cell_type": "code",
   "execution_count": 12,
   "metadata": {},
   "outputs": [],
   "source": [
    "class_river = classify_glacier(index1, rf, class_river) #Greenland\n",
    "class_river = classify_glacier(index2, rf, class_river) #Ellesmere Island\n",
    "class_river = classify_glacier(index3, rf, class_river) #Baffin Island\n",
    "class_river = classify_glacier(index4, rf, class_river) #Southern Ellesmere Island\n",
    "class_river = classify_glacier(index5, rf, class_river) #Western Ellesmere Island\n",
    "class_river = classify_glacier(index6, rf, class_river) #Western Ellesmere Island\n",
    "class_river = classify_glacier(index7, rf, class_river) #More of Greenland\n",
    "class_river = classify_glacier(index8, rf, class_river) #S Greenland\n",
    "class_river = classify_glacier(index9, rf, class_river) #S Baffin Island"
   ]
  },
  {
   "cell_type": "markdown",
   "metadata": {},
   "source": [
    "and then identify continental drainage:"
   ]
  },
  {
   "cell_type": "code",
   "execution_count": 13,
   "metadata": {},
   "outputs": [],
   "source": [
    "def classify_continental(index, rf, class_river):\n",
    "    for i in range(0,index.shape[0]):         \n",
    "        if ~np.isnan(rf[index[i][0],index[i][1]]):\n",
    "#             rf[index[i][0],index[i][1]] = 2.0\n",
    "            class_river[index[i][0],index[i][1]] = 2.0\n",
    "    return class_river"
   ]
  },
  {
   "cell_type": "code",
   "execution_count": 14,
   "metadata": {},
   "outputs": [],
   "source": [
    "# array of indices where latitude  & longitude condition (Greenland) is met\n",
    "index1 = np.argwhere((lat_rf < 71) & (lat_rf > 67) & (lon_rf < -118) & (lon_rf > -150))\n",
    "index2 = np.argwhere((lat_rf < 68) & (lat_rf > 67) & (lon_rf < -95) & (lon_rf > -115))\n",
    "index3 = np.argwhere((lat_rf < 70) & (lat_rf > 67) & (lon_rf < -88) & (lon_rf > -100))\n",
    "index4 = np.argwhere((lat_rf < 70) & (lat_rf > 65) & (lon_rf < -81) & (lon_rf > -87))\n",
    "index5 = np.argwhere((lat_rf < 69) & (lat_rf > 65) & (lon_rf < -80) & (lon_rf > -95))\n",
    "index6 = np.argwhere((lat_rf < 69) & (lat_rf > 67) & (lon_rf < -104) & (lon_rf > -109))\n",
    "index7 = np.argwhere((lat_rf < 69) & (lat_rf > 68) & (lon_rf < -116) & (lon_rf > -119))\n",
    "index8 = np.argwhere((lat_rf < 69.2) & (lat_rf > 68) & (lon_rf < -113) & (lon_rf > -116))\n",
    "\n",
    "index9 = np.argwhere((lat_rf < 62) & (lon_rf > -100) & (lon_rf < -50))\n",
    "index10 = np.argwhere((lat_rf < 68) & (lat_rf > 60) & (lon_rf > -130) & (lon_rf < -88))\n",
    "index11 = np.argwhere((lat_rf < 65) & (lat_rf > 64) & (lon_rf > -88) & (lon_rf < -87))"
   ]
  },
  {
   "cell_type": "code",
   "execution_count": 15,
   "metadata": {},
   "outputs": [],
   "source": [
    "class_river = classify_continental(index1, rf, class_river) \n",
    "class_river = classify_continental(index2, rf, class_river)\n",
    "class_river = classify_continental(index3, rf, class_river)\n",
    "class_river = classify_continental(index4, rf, class_river)\n",
    "class_river = classify_continental(index5, rf, class_river)\n",
    "class_river = classify_continental(index6, rf, class_river)\n",
    "class_river = classify_continental(index7, rf, class_river)\n",
    "class_river = classify_continental(index8, rf, class_river)\n",
    "class_river = classify_continental(index9, rf, class_river)\n",
    "class_river = classify_continental(index10, rf, class_river)\n",
    "class_river = classify_continental(index11, rf, class_river)"
   ]
  },
  {
   "cell_type": "code",
   "execution_count": 16,
   "metadata": {},
   "outputs": [],
   "source": [
    "def classify_gulf(index, rf, class_river):\n",
    "    for i in range(0,index.shape[0]):         \n",
    "        if ~np.isnan(rf[index[i][0],index[i][1]]):\n",
    "            class_river[index[i][0],index[i][1]] = 4.0\n",
    "    return class_river"
   ]
  },
  {
   "cell_type": "code",
   "execution_count": 17,
   "metadata": {},
   "outputs": [],
   "source": [
    "index1 = np.argwhere((lat_rf < 70) & (lat_rf > 69) & (lon_rf > -97) & (lon_rf < -94))"
   ]
  },
  {
   "cell_type": "code",
   "execution_count": 18,
   "metadata": {},
   "outputs": [],
   "source": [
    "class_river = classify_gulf(index1, rf, class_river)"
   ]
  },
  {
   "cell_type": "markdown",
   "metadata": {},
   "source": [
    "Consistency check:"
   ]
  },
  {
   "cell_type": "code",
   "execution_count": 19,
   "metadata": {},
   "outputs": [
    {
     "name": "stdout",
     "output_type": "stream",
     "text": [
      "(18818,) (18818,)\n"
     ]
    }
   ],
   "source": [
    "print(rf[~np.isnan(rf)].shape, class_river[~np.isnan(class_river)].shape)"
   ]
  },
  {
   "cell_type": "markdown",
   "metadata": {},
   "source": [
    "#### Write classification to file:"
   ]
  },
  {
   "cell_type": "code",
   "execution_count": 17,
   "metadata": {},
   "outputs": [],
   "source": [
    "file_write = xr.Dataset(\n",
    "    {'rclass': ((\"y\",\"x\"), class_river)}, \n",
    "    coords = {\n",
    "        \"y\": np.zeros(2400),\n",
    "        \"x\": np.zeros(1632),\n",
    "    })\n",
    "    \n",
    "file_write.to_netcdf('/ocean/brogalla/GEOTRACES/data/Pb-202207-forcing/river_class-202207.nc')"
   ]
  },
  {
   "cell_type": "markdown",
   "metadata": {},
   "source": [
    "### Apply concentrations to classification"
   ]
  },
  {
   "cell_type": "code",
   "execution_count": 20,
   "metadata": {},
   "outputs": [],
   "source": [
    "# Observations of dissolved Pb concentrations and suspended particulate material in small rivers in Inuit Nunangat\n",
    "# from Colombo et al. (2019) and Brown et al. (2020)\n",
    "river_names = ['Akpat Kuunga', 'Glacier', 'Marcil Creek', 'Saaqu', 'Devon Isl.', \\\n",
    "               'Cunningham', 'Garnier', 'Mecham', 'Creswell', 'Le Feuvre Inlet', \\\n",
    "               'Pasley', 'Simpson', 'Ellice', 'Tree']\n",
    "river_lats = [73.7638, 73.6124, 72.9971, 73.7936, 74.5110, \\\n",
    "              74.0153, 73.9445, 74.6926, 72.8491, 72.3412, \\\n",
    "              70.4696, 67.6763, 67.8930, 67.6242]\n",
    "river_lons = [-80.4468, -78.6805, -84.9864, -86.9829, -88.4910, -93.6242, -92.0369, -94.7783, -93.4162, \\\n",
    "             -96.9172, -95.5796, -100.5683, -104.0758, -111.9161]\n",
    "river_spm = [8.31, 261, 3.18, np.nan, np.nan, \\\n",
    "             0.85, 13.6, 0.14, 2.43, np.nan, \\\n",
    "             0.03, 19.1, 4.82, np.nan]\n",
    "river_dpb = [(1.53+3.20)/2, 35, (3.23+5.22)/2, (1.01+1.26)/2, 1.74, (0.601+0.670)/2, \\\n",
    "            3.53, 1.49, (4.48+6.07)/2, (1.59+1.78)/2, 1.72, (32+73)/2, \\\n",
    "            (60+64)/2, (12+15)/2]"
   ]
  },
  {
   "cell_type": "markdown",
   "metadata": {},
   "source": [
    "Groupings:\n",
    "- Glacial rivers: Glacial River\n",
    "- Continental rivers: Tree River, Ellice River, Simpson River\n",
    "- Other rivers: Marcil, Saaqu, Devon Island, Cunningham, Garnier, Mecham, Creswell, Le Feuvre Inlet, Pasle, Akput Kuunga"
   ]
  },
  {
   "cell_type": "code",
   "execution_count": 21,
   "metadata": {},
   "outputs": [],
   "source": [
    "spm_glaciers = river_spm[1]\n",
    "spm_other    = np.append(river_spm[2:11], river_spm[0])\n",
    "spm_cont     = river_spm[11:14]\n",
    "\n",
    "dPb_glaciers = river_dpb[1]\n",
    "dPb_other    = np.append(river_dpb[2:11], river_dpb[0])\n",
    "dPb_cont     = river_dpb[11:14]"
   ]
  },
  {
   "cell_type": "code",
   "execution_count": 22,
   "metadata": {},
   "outputs": [
    {
     "name": "stdout",
     "output_type": "stream",
     "text": [
      "dPb, glaciers: 35.00\n",
      "dPb, continental: 42.67\n",
      "dPb, other: 2.38\n",
      "---------------------------------\n",
      "spm, glaciers: 261.00\n",
      "spm, continental: 11.96\n",
      "spm, other: 4.08\n"
     ]
    }
   ],
   "source": [
    "print(f'dPb, glaciers: {np.average(dPb_glaciers):.2f}')\n",
    "print(f'dPb, continental: {np.average(dPb_cont):.2f}')\n",
    "print(f'dPb, other: {np.average(dPb_other):.2f}')\n",
    "print('---------------------------------')\n",
    "print(f'spm, glaciers: {np.nanmean(spm_glaciers):.2f}')\n",
    "print(f'spm, continental: {np.nanmean(spm_cont):.2f}')\n",
    "print(f'spm, other: {np.nanmean(spm_other):.2f}')"
   ]
  },
  {
   "cell_type": "code",
   "execution_count": null,
   "metadata": {},
   "outputs": [],
   "source": [
    "# write these concentrations to the forcing file:\n",
    "file_write = xr.Dataset(\n",
    "    {'nav_lon': ((\"y\",\"x\"), lon_rf), \n",
    "     'nav_lat': ((\"y\",\"x\"), lat_rf),\n",
    "     'spm_rivers': ((\"y\",\"x\"), SPM_rivers),\n",
    "     'dpb_rivers': ((\"y\",\"x\"), dPb_rivers)}, \n",
    "     coords = {\n",
    "         \"y\": np.zeros(2400),\n",
    "         \"x\": np.zeros(1632),\n",
    "    })\n",
    "    \n",
    "file_write.to_netcdf('/ocean/brogalla/GEOTRACES/data/Pb-tuning-202302/river-forcing-Pb-base-20230213.nc')"
   ]
  }
 ],
 "metadata": {
  "kernelspec": {
   "display_name": "Python 3",
   "language": "python",
   "name": "python3"
  },
  "language_info": {
   "codemirror_mode": {
    "name": "ipython",
    "version": 3
   },
   "file_extension": ".py",
   "mimetype": "text/x-python",
   "name": "python",
   "nbconvert_exporter": "python",
   "pygments_lexer": "ipython3",
   "version": "3.6.11"
  }
 },
 "nbformat": 4,
 "nbformat_minor": 4
}
