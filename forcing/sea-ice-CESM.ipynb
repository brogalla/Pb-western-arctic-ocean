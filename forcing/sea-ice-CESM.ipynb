{
 "cells": [
  {
   "cell_type": "markdown",
   "metadata": {},
   "source": [
    "# Create monthly CESM sea ice dust and black carbon flux files\n",
    "\n",
    "Interpolated to ANHA12 model grid.\n",
    "\n",
    "NCAR CESM output:\n",
    "Community Earth System Model (Community Atmosphere Model - CAM https://agupubs.onlinelibrary.wiley.com/doi/abs/10.1002/2013MS000279) output: https://www.earthsystemgrid.org/; CESM2 Large Ensemble Sea Ice Post Processed Data, Monthly Averages.\n",
    "\n",
    "Specific run output: https://www.earthsystemgrid.org/dataset/ucar.cgd.cesm2le.output.html"
   ]
  },
  {
   "cell_type": "code",
   "execution_count": 4,
   "metadata": {},
   "outputs": [],
   "source": [
    "import netCDF4 as nc\n",
    "import numpy as np\n",
    "import datetime\n",
    "import pandas as pd\n",
    "import datetime as dt\n",
    "import xarray as xr\n",
    "import sys\n",
    "sys.path.append('../paper-materials/')\n",
    "import mapping_functions as mf\n",
    "from constants import imin, imax, jmin, jmax\n",
    "\n",
    "%matplotlib inline"
   ]
  },
  {
   "cell_type": "markdown",
   "metadata": {},
   "source": [
    "#### Parameters"
   ]
  },
  {
   "cell_type": "code",
   "execution_count": 5,
   "metadata": {},
   "outputs": [],
   "source": [
    "data_folder = '/data/brogalla/NCAR-CESM2/'"
   ]
  },
  {
   "cell_type": "markdown",
   "metadata": {},
   "source": [
    "#### Load files"
   ]
  },
  {
   "cell_type": "code",
   "execution_count": 6,
   "metadata": {},
   "outputs": [],
   "source": [
    "# ANHA12 grid mesh:\n",
    "mesh        = xr.open_dataset('/ocean/brogalla/GEOTRACES/data/ANHA12/ANHA12_mesh1.nc')\n",
    "tmask       = mesh['tmask'].values[0,:,:,:]\n",
    "ANHA12_lons = mesh['nav_lon']\n",
    "ANHA12_lats = mesh['nav_lat']\n",
    "Z_masked    = np.ma.masked_where((tmask > 0.1), tmask) "
   ]
  },
  {
   "cell_type": "code",
   "execution_count": null,
   "metadata": {},
   "outputs": [],
   "source": [
    "# ---- Load data: ------------\n",
    "# CESM2 files accessed through the Climate Data Gateway\n",
    "# Black carbon:\n",
    "BC1 = xr.open_dataset(f'{data_folder}b.e21.BHISTcmip6.f09_g17.LE2-1001.001.pop.h.SEAICE_BLACK_CARBON_FLUX_CPL.200001-200912.nc')\n",
    "BC2 = xr.open_dataset(f'{data_folder}b.e21.BHISTcmip6.f09_g17.LE2-1001.001.pop.h.SEAICE_BLACK_CARBON_FLUX_CPL.201001-201412.nc')\n",
    "BC3 = xr.open_dataset(f'{data_folder}b.e21.BSSP370cmip6.f09_g17.LE2-1001.001.pop.h.SEAICE_BLACK_CARBON_FLUX_CPL.201501-202412.nc')\n",
    "ICE_BC1  = BC1['SEAICE_BLACK_CARBON_FLUX_CPL'].values # time, lat, lon; g/cm2/s\n",
    "ICE_BC2  = BC2['SEAICE_BLACK_CARBON_FLUX_CPL'].values\n",
    "ICE_BC3  = BC3['SEAICE_BLACK_CARBON_FLUX_CPL'].values\n",
    "BC1_time = BC1.indexes['time'].to_datetimeindex() \n",
    "BC2_time = BC2.indexes['time'].to_datetimeindex() \n",
    "BC3_time = BC3.indexes['time'].to_datetimeindex() \n",
    "# combine:\n",
    "ICE_BC   = np.vstack([ICE_BC1, ICE_BC2, ICE_BC3])\n",
    "BC_time  = np.hstack([BC1_time, BC2_time, BC3_time])\n",
    "BC_date  = np.array([pd.Timestamp(time).to_pydatetime() for time in BC_time])\n",
    "  \n",
    "# Dust:\n",
    "DST1 = xr.open_dataset(f'{data_folder}b.e21.BHISTcmip6.f09_g17.LE2-1001.001.pop.h.SEAICE_DUST_FLUX_CPL.200001-200912.nc')\n",
    "DST2 = xr.open_dataset(f'{data_folder}b.e21.BHISTcmip6.f09_g17.LE2-1001.001.pop.h.SEAICE_DUST_FLUX_CPL.201001-201412.nc')\n",
    "DST3 = xr.open_dataset(f'{data_folder}b.e21.BSSP370cmip6.f09_g17.LE2-1001.001.pop.h.SEAICE_DUST_FLUX_CPL.201501-202412.nc')\n",
    "ICE_DST1  = DST1['SEAICE_DUST_FLUX_CPL'].values # time, lat, lon; g/cm2/s\n",
    "ICE_DST2  = DST2['SEAICE_DUST_FLUX_CPL'].values\n",
    "ICE_DST3  = DST3['SEAICE_DUST_FLUX_CPL'].values\n",
    "DST1_time = DST1.indexes['time'].to_datetimeindex() \n",
    "DST2_time = DST2.indexes['time'].to_datetimeindex() \n",
    "DST3_time = DST3.indexes['time'].to_datetimeindex()\n",
    "# combine:\n",
    "ICE_DST   = np.vstack([ICE_DST1, ICE_DST2, ICE_DST3])\n",
    "DST_time  = np.hstack([DST1_time, DST2_time, DST3_time])\n",
    "DST_date  = np.array([pd.Timestamp(time).to_pydatetime() for time in DST_time])\n",
    "    \n",
    "# Latitudes and longitudes of T grid points\n",
    "CESM2_lons = BC1['TLONG'].values\n",
    "CESM2_lons[CESM2_lons >=180] = -360 + CESM2_lons[CESM2_lons >=180] # degrees east\n",
    "CESM2_lats = BC1['TLAT'].values"
   ]
  },
  {
   "cell_type": "markdown",
   "metadata": {},
   "source": [
    "#### Functions"
   ]
  },
  {
   "cell_type": "code",
   "execution_count": 9,
   "metadata": {},
   "outputs": [],
   "source": [
    "# save dust and black carbond forcing fields to a netCDF file:\n",
    "def save_file(filename, field1, field2):\n",
    "    ncd = nc.Dataset(filename, 'w', zlib=True)\n",
    "    ncd.createDimension('x',len(mesh.dimensions['x']))\n",
    "    ncd.createDimension('y',len(mesh.dimensions['y']))\n",
    "    ncd.createDimension('time_counter',None)\n",
    "    \n",
    "    # convert units from g/cm2/s to kg/m2/s:\n",
    "    field1_convert = field1*10\n",
    "    field2_convert = field2*10\n",
    "    \n",
    "    # variables\n",
    "    dust             = ncd.createVariable('dust', 'float64', ('y','x'))\n",
    "    dust.units       = 'kg/m2/s'\n",
    "    dust.long_name   = 'Dust deposition flux from ice'  \n",
    "    dust.coordinates = 'nav_lon nav_lat'\n",
    "    dust[:]          = field1_convert\n",
    "    \n",
    "    black_c             = ncd.createVariable('bc', 'float64', ('y','x'))\n",
    "    black_c.units       = 'kg/m2/s'\n",
    "    black_c.long_name   = 'Black carbon deposition flux from ice'  \n",
    "    black_c.coordinates = 'nav_lon nav_lat'\n",
    "    black_c[:]          = field2_convert\n",
    "    \n",
    "    print('saved ', filename)\n",
    "\n",
    "    ncd.close()\n",
    "    return"
   ]
  },
  {
   "cell_type": "code",
   "execution_count": 10,
   "metadata": {},
   "outputs": [],
   "source": [
    "# Identify the indices associated with the specified file year\n",
    "def find_dates(file_year):\n",
    "    \n",
    "    indices = np.array([])\n",
    "    for d,date in enumerate(DST_date):\n",
    "        if date.year==file_year:\n",
    "            indices = np.append(indices, d)\n",
    "            \n",
    "    start_index = int(np.amin(indices))\n",
    "    end_index   = int(np.amax(indices))\n",
    "    \n",
    "    print('start index: ', start_index)\n",
    "    print('end index: ', end_index)\n",
    "    \n",
    "    return start_index, end_index"
   ]
  },
  {
   "cell_type": "code",
   "execution_count": 11,
   "metadata": {},
   "outputs": [],
   "source": [
    "# Main function to interpolate CESM2 fields to the ANHA12 model grid for each year\n",
    "def CESM_to_ANHA12(file_year, savefiles=False):\n",
    "    \n",
    "    si, ei = find_dates(file_year)\n",
    "    \n",
    "    dust         = ICE_DST[si:ei+1,:,:]\n",
    "    black_carbon = ICE_BC[si:ei+1,:,:]\n",
    "    print('Check that output is of the correct dimensions: ', dust.shape, black_carbon.shape)\n",
    "    \n",
    "    interp_dust         = np.empty((12, 2400, 1632))\n",
    "    interp_black_carbon = np.empty((12, 2400, 1632))\n",
    "    # loop over the months:\n",
    "    for i in range(0,12):\n",
    "        # Mask NaN values and remove\n",
    "        dstm = np.ma.masked_where(np.isnan(dust[i,:,:]), dust[i,:,:])\n",
    "        bcm  = np.ma.masked_where(np.isnan(black_carbon[i,:,:]), black_carbon[i,:,:])\n",
    "        \n",
    "        interp_dust[i,:,:]         = mf.interp_np(CESM2_lons[~dstm.mask], CESM2_lats[~dstm.mask], \\\n",
    "                                                  dstm[~dstm.mask], ANHA12_lons, ANHA12_lats)\n",
    "        interp_black_carbon[i,:,:] = mf.interp_np(CESM2_lons[~bcm.mask], CESM2_lats[~bcm.mask], \\\n",
    "                                                  bcm[~bcm.mask], ANHA12_lons, ANHA12_lats)\n",
    "        \n",
    "    if savefiles:\n",
    "        location = '/ocean/brogalla/GEOTRACES/data/Pb-forcing-202311/seaice/'\n",
    "        \n",
    "        for ind in range(1,13):\n",
    "            save_file(f'{location}ice_flux_y{file_year}m{ind:02}.nc',interp_dust[ind-1,:,:],\\\n",
    "                      interp_black_carbon[ind-1,:,:])\n",
    "    \n",
    "    return interp_dust, interp_black_carbon"
   ]
  },
  {
   "cell_type": "markdown",
   "metadata": {},
   "source": [
    "#### Calculations"
   ]
  },
  {
   "cell_type": "code",
   "execution_count": null,
   "metadata": {},
   "outputs": [],
   "source": [
    "for year in np.arange(2002,2022,1):\n",
    "    interp_dust, interp_black_carbon = CESM_to_ANHA12(year, savefiles=True)"
   ]
  }
 ],
 "metadata": {
  "kernelspec": {
   "display_name": "Python 3",
   "language": "python",
   "name": "python3"
  },
  "language_info": {
   "codemirror_mode": {
    "name": "ipython",
    "version": 3
   },
   "file_extension": ".py",
   "mimetype": "text/x-python",
   "name": "python",
   "nbconvert_exporter": "python",
   "pygments_lexer": "ipython3",
   "version": "3.6.11"
  }
 },
 "nbformat": 4,
 "nbformat_minor": 4
}
