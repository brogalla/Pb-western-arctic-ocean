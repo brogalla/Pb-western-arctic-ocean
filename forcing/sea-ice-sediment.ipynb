{
 "cells": [
  {
   "cell_type": "markdown",
   "metadata": {},
   "source": [
    "# Parameterization for sediment released by sea-ice"
   ]
  },
  {
   "cell_type": "code",
   "execution_count": 1,
   "metadata": {},
   "outputs": [],
   "source": [
    "import numpy as np\n",
    "import glob\n",
    "import datetime as dt\n",
    "import scipy.ndimage as ndimage\n",
    "import xarray as xr\n",
    "import sys\n",
    "sys.path.append('../paper-materials/')\n",
    "from constants import imin, imax, jmin, jmax\n",
    "\n",
    "%matplotlib inline"
   ]
  },
  {
   "cell_type": "markdown",
   "metadata": {},
   "source": [
    "#### Load files"
   ]
  },
  {
   "cell_type": "code",
   "execution_count": 4,
   "metadata": {},
   "outputs": [],
   "source": [
    "# The Pb model configuration ANHA12 mask:\n",
    "mesh      = xr.open_dataset('/ocean/brogalla/GEOTRACES/data/ANHA12/ANHA12_mask_Pb-20230213.nc')\n",
    "mesh_lon  = mesh['nav_lon'].values\n",
    "mesh_lat  = mesh['nav_lat'].values\n",
    "tmask     = mesh['tmask'].values\n",
    "land_mask = np.ma.masked_where((tmask[0,:,:,:] > 0.1), tmask[0,:,:,:])"
   ]
  },
  {
   "cell_type": "markdown",
   "metadata": {},
   "source": [
    "#### Functions:"
   ]
  },
  {
   "cell_type": "code",
   "execution_count": 5,
   "metadata": {},
   "outputs": [],
   "source": [
    "# load trajectories from particle tracking experiments\n",
    "def load_tracks(filename):\n",
    "    nemo_file  = xr.open_dataset(filename)\n",
    "\n",
    "    traj = nemo_file['trajectory'].values # dimensions: number of particles, tracks\n",
    "    time = nemo_file['time'].values       # units: seconds\n",
    "    lat  = nemo_file['lat'].values        # degrees North\n",
    "    lon  = nemo_file['lon'].values        # degrees East\n",
    "\n",
    "    return traj, time, lon, lat"
   ]
  },
  {
   "cell_type": "code",
   "execution_count": 38,
   "metadata": {},
   "outputs": [],
   "source": [
    "# Check whether a parcel was in the laptev sea in the fall months\n",
    "def check_laptev(CB_traj, CB_lon, CB_lat, CB_time):\n",
    "    # Define boundary latitudes and longitudes for the Laptev Sea region\n",
    "    trajS_bdy1 = 68;     trajN_bdy1 = 74;\n",
    "    trajE_bdy1 = -170;   trajW_bdy1 = -210;\n",
    "\n",
    "    trajS_bdy2 = 70;     trajN_bdy2 = 75;\n",
    "    trajE_bdy2 = -185;   trajW_bdy2 = -230;\n",
    "    \n",
    "    Laptev_particle = False\n",
    "    # At each time step:\n",
    "    for timestep in range(0,len(CB_traj)):\n",
    "        if ((CB_lon[timestep]   < trajE_bdy1) & (CB_lon[timestep] > trajW_bdy1) \\\n",
    "            & (CB_lat[timestep] < trajN_bdy1) & (CB_lat[timestep] > trajS_bdy1)) or \\\n",
    "           ((CB_lon[timestep]   < trajE_bdy2) & (CB_lon[timestep] > trajW_bdy2) \\\n",
    "            & (CB_lat[timestep] < trajN_bdy2) & (CB_lat[timestep] > trajS_bdy2)):\n",
    "\n",
    "            start_time   = dt.datetime(2015,12,31) - dt.timedelta(seconds=CB_time[0].astype('timedelta64[s]').item().total_seconds())\n",
    "            current_time = start_time - dt.timedelta(seconds=CB_time[timestep].astype('timedelta64[s]').item().total_seconds())\n",
    "\n",
    "            # And is the parcel on the shelf in the fall?\n",
    "            if current_time.month in [9,10,11,12]:\n",
    "                Laptev_particle = True\n",
    "                break\n",
    "                    \n",
    "    return Laptev_particle"
   ]
  },
  {
   "cell_type": "code",
   "execution_count": 39,
   "metadata": {},
   "outputs": [],
   "source": [
    "# identify where a parcel came from\n",
    "def parcel_origin(CB_lon, CB_lat, CB_time, CB_traj):\n",
    "\n",
    "    dim_parc = int((CB_lon.shape[0]/12)/np.ceil(CB_lon.shape[1]/(4*365))) # bottom converts 6 hour to days    \n",
    "    dim_time = int(12*((CB_lon.shape[0]/dim_parc)/12))\n",
    "\n",
    "    particles_origin = np.zeros((dim_parc,dim_time))\n",
    "\n",
    "    for release_time in range(0,dim_time):\n",
    "        for location in range(0,dim_parc):\n",
    "            ind = location + release_time*dim_parc\n",
    "            lon_loc = CB_lon[ind,:]\n",
    "            lat_loc = CB_lat[ind,:]\n",
    "            time_loc = CB_time[ind,:]\n",
    "            traj_loc = CB_traj[ind,:]\n",
    "\n",
    "            Laptev_particle = check_laptev(traj_loc, lon_loc, lat_loc, time_loc)\n",
    "\n",
    "            if Laptev_particle:\n",
    "                particles_origin[location, release_time] = 1\n",
    "\n",
    "    return particles_origin"
   ]
  },
  {
   "cell_type": "code",
   "execution_count": 40,
   "metadata": {},
   "outputs": [],
   "source": [
    "def interp_np(nav_lon, nav_lat, var_in, lon_ANHA12, lat_ANHA12):\n",
    "    ''' Interpolate some field to ANHA12 grid.\n",
    "        The function is based on the bilinear interpolation in scipy, griddata \n",
    "        =======================================================================\n",
    "            nav_lon, nav_lat        : input field lon/lat\n",
    "            lon_ANHA12, lat_ANHA12  : ANHA12 defined lons/lats\n",
    "            var_in                  : 2-D model variable\n",
    "    '''\n",
    "    from scipy.interpolate import griddata\n",
    "    LatLonPair = (nav_lon, nav_lat)\n",
    "    var_out = griddata(LatLonPair, var_in, (lon_ANHA12, lat_ANHA12), method='cubic')\n",
    "    # Take nearest neighbour interpolation to fill nans\n",
    "    var_fill = griddata(LatLonPair, var_in, (lon_ANHA12, lat_ANHA12), method='nearest')\n",
    "    \n",
    "    # fill nans with constant value (0.1)\n",
    "    var_out[np.isnan(var_out)] = var_fill[np.isnan(var_out)]\n",
    "    return var_out"
   ]
  },
  {
   "cell_type": "markdown",
   "metadata": {},
   "source": [
    "Load parcel trajectories"
   ]
  },
  {
   "cell_type": "code",
   "execution_count": 41,
   "metadata": {},
   "outputs": [],
   "source": [
    "# from simulations ran for Rogalla et al. (2022).\n",
    "CB_traj, CB_time, CB_lon, CB_lat = load_tracks('/ocean/brogalla/GEOTRACES/parcels/trials/'+\\\n",
    "                                               'Particles_CB-20200205-extended-region2.nc')\n",
    "\n",
    "particles_origin = parcel_origin(CB_lon, CB_lat, CB_time, CB_traj)\n",
    "\n",
    "dim_parc = int((CB_lon.shape[0]/12)/np.ceil(CB_lon.shape[1]/(4*365)))\n",
    "dim_lons = len(set(CB_lon[0:dim_parc,0]))\n",
    "\n",
    "proportion_laptev = np.empty(CB_lon[0:dim_parc,0].shape)\n",
    "# calculate the proportion that spent time in the Laptev Sea\n",
    "for location in range(0,dim_parc):\n",
    "    proportion_laptev[location] = np.sum(particles_origin[location,:])/particles_origin.shape[1]"
   ]
  },
  {
   "cell_type": "code",
   "execution_count": 42,
   "metadata": {},
   "outputs": [],
   "source": [
    "parcel_lons = CB_lon[0:186, 0]\n",
    "parcel_lats = CB_lat[0:186, 0]"
   ]
  },
  {
   "cell_type": "markdown",
   "metadata": {},
   "source": [
    "Forcing field dimensions"
   ]
  },
  {
   "cell_type": "code",
   "execution_count": 43,
   "metadata": {},
   "outputs": [],
   "source": [
    "forcing_lons = mesh_lon[:,:]\n",
    "forcing_lats = mesh_lat[:,:]\n",
    "forcing_sed  = np.zeros(forcing_lons.shape)"
   ]
  },
  {
   "cell_type": "markdown",
   "metadata": {},
   "source": [
    "Interpolate Canada Basin proportions:"
   ]
  },
  {
   "cell_type": "code",
   "execution_count": 44,
   "metadata": {},
   "outputs": [],
   "source": [
    "forcing_sed = interp_np(parcel_lons, parcel_lats, proportion_laptev, forcing_lons, forcing_lats)"
   ]
  },
  {
   "cell_type": "code",
   "execution_count": 45,
   "metadata": {},
   "outputs": [],
   "source": [
    "forcing_sed[forcing_sed < 0] = 0\n",
    "\n",
    "# North of Nares Strait\n",
    "forcing_sed[(forcing_lons < -50) & (forcing_lons > -95) & (forcing_lats > 78) & (forcing_lats < 83.5)] = 0.03\n",
    "\n",
    "# CAA background rate\n",
    "forcing_sed[(forcing_lons >-128) & (forcing_lons < -45) & (forcing_lats < 77) & (forcing_lats > 60)] = 0.03\n",
    "\n",
    "# Beaufort Shelf background rate\n",
    "forcing_sed[(forcing_lons <-128) & (forcing_lats < 71.3) & (forcing_lats > 68)] = 0.02\n",
    "\n",
    "# zero southern Baffin Bay\n",
    "forcing_sed[(forcing_lons >-68)  & (forcing_lats<71)] = 0\n",
    "forcing_sed[(forcing_lons >-100) & (forcing_lats<66)] = 0"
   ]
  },
  {
   "cell_type": "code",
   "execution_count": 46,
   "metadata": {},
   "outputs": [],
   "source": [
    "Z2 = ndimage.gaussian_filter(forcing_sed, sigma=16, order=0)\n",
    "\n",
    "# Zero the forcing field outside of the domain:\n",
    "Z2[0:imin, :]  = 0; Z2[imax:-1, :] = 0;\n",
    "Z2[:, 0:jmin]  = 0; Z2[:, jmax:-1] = 0;"
   ]
  },
  {
   "cell_type": "markdown",
   "metadata": {},
   "source": [
    "#### Save to forcing field:"
   ]
  },
  {
   "cell_type": "code",
   "execution_count": 23,
   "metadata": {},
   "outputs": [],
   "source": [
    "file_write = xr.Dataset(\n",
    "    {'prop_shelf': ((\"y\",\"x\"), Z2)}, \n",
    "    coords = {\n",
    "        \"y\": np.zeros(2400),\n",
    "        \"x\": np.zeros(1632),\n",
    "    },\n",
    "    attrs = {\n",
    "        'long_name':'Proportion of shelf sediments in ice',\n",
    "        'units':'none',\n",
    "    }\n",
    ")\n",
    "\n",
    "file_write.to_netcdf('/ocean/brogalla/GEOTRACES/data/ice_sediment-20221102.nc')"
   ]
  },
  {
   "cell_type": "code",
   "execution_count": null,
   "metadata": {},
   "outputs": [],
   "source": []
  }
 ],
 "metadata": {
  "kernelspec": {
   "display_name": "Python 3",
   "language": "python",
   "name": "python3"
  },
  "language_info": {
   "codemirror_mode": {
    "name": "ipython",
    "version": 3
   },
   "file_extension": ".py",
   "mimetype": "text/x-python",
   "name": "python",
   "nbconvert_exporter": "python",
   "pygments_lexer": "ipython3",
   "version": "3.6.11"
  }
 },
 "nbformat": 4,
 "nbformat_minor": 4
}
